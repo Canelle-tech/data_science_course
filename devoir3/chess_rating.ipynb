{
 "cells": [
  {
   "cell_type": "markdown",
   "id": "7bfb7c5a-e145-49ed-adb7-be1802339d86",
   "metadata": {
    "tags": []
   },
   "source": [
    "# IFT 6758 - Devoir 3 \n",
    "\n",
    "### Pt 2. Classement d'éches\n",
    "**Comparaison des groupes sur/sous-représentés**\n",
    "\n",
    "Evaluation de ce notebook :\n",
    "\n",
    "- Graphiques pour les distributions de scores et d'écarts\n",
    "- Résultats imprimés des tests de permutation\n",
    "- Réponses courtes (dernière section)\n"
   ]
  },
  {
   "cell_type": "code",
   "execution_count": 1,
   "id": "29c86155-6836-47f7-9b7b-e3b17ef2e233",
   "metadata": {},
   "outputs": [],
   "source": [
    "%load_ext autoreload\n",
    "%autoreload 2"
   ]
  },
  {
   "cell_type": "code",
   "execution_count": 2,
   "id": "06160bcc-d246-4765-a862-18e6ce364ad1",
   "metadata": {},
   "outputs": [],
   "source": [
    "from pathlib import Path\n",
    "import pandas as pd\n",
    "import numpy as np\n",
    "import matplotlib.pyplot as plt\n",
    "import seaborn as sns\n",
    "sns.set()"
   ]
  },
  {
   "cell_type": "code",
   "execution_count": 3,
   "id": "1c5c07eb-9b17-41f6-9d11-1e34d2730481",
   "metadata": {},
   "outputs": [
    {
     "name": "stderr",
     "output_type": "stream",
     "text": [
      "/Users/canelle/Documents/Automne_2023/Science_données/devoir3/chess_rating.py:8: TqdmExperimentalWarning: Using `tqdm.autonotebook.tqdm` in notebook mode. Use `tqdm.tqdm` instead to force console mode (e.g. in jupyter console)\n",
      "  from tqdm.autonotebook import tqdm\n"
     ]
    }
   ],
   "source": [
    "import chess_rating"
   ]
  },
  {
   "cell_type": "markdown",
   "id": "6aeda9a9-d48c-44bb-9352-fd813652b603",
   "metadata": {
    "tags": []
   },
   "source": [
    "## 1. Chargez les données"
   ]
  },
  {
   "cell_type": "markdown",
   "id": "c577daef-6bb6-4fe7-940f-f8f5801b6248",
   "metadata": {},
   "source": [
    "### 1.1 Lire les données XML"
   ]
  },
  {
   "cell_type": "code",
   "execution_count": 4,
   "id": "23f719d7-036d-4fbb-9fe0-a345b3ffacdd",
   "metadata": {},
   "outputs": [],
   "source": [
    "xml_path = Path(\"data/standard_oct22frl_xml.xml\")  # shouldn't need to change this"
   ]
  },
  {
   "cell_type": "code",
   "execution_count": 5,
   "id": "520c7577-69ce-4a1f-b3d2-95a4d5e4c8a5",
   "metadata": {},
   "outputs": [],
   "source": [
    "# TODO: Complétez cette méthode dans chess_ratings.py\n",
    "raw_df = chess_rating.parse_xml(xml_path)"
   ]
  },
  {
   "cell_type": "code",
   "execution_count": 7,
   "id": "42aff280",
   "metadata": {},
   "outputs": [],
   "source": [
    "import random"
   ]
  },
  {
   "cell_type": "code",
   "execution_count": 8,
   "id": "06a0c309-c7d3-4c96-bedf-777301f7f62d",
   "metadata": {},
   "outputs": [
    {
     "data": {
      "text/html": [
       "<div>\n",
       "<style scoped>\n",
       "    .dataframe tbody tr th:only-of-type {\n",
       "        vertical-align: middle;\n",
       "    }\n",
       "\n",
       "    .dataframe tbody tr th {\n",
       "        vertical-align: top;\n",
       "    }\n",
       "\n",
       "    .dataframe thead th {\n",
       "        text-align: right;\n",
       "    }\n",
       "</style>\n",
       "<table border=\"1\" class=\"dataframe\">\n",
       "  <thead>\n",
       "    <tr style=\"text-align: right;\">\n",
       "      <th></th>\n",
       "      <th>name</th>\n",
       "      <th>rating</th>\n",
       "      <th>sex</th>\n",
       "      <th>birthday</th>\n",
       "      <th>country</th>\n",
       "      <th>flag</th>\n",
       "      <th>title</th>\n",
       "    </tr>\n",
       "  </thead>\n",
       "  <tbody>\n",
       "    <tr>\n",
       "      <th>87914</th>\n",
       "      <td>Doerge, Sven</td>\n",
       "      <td>1943</td>\n",
       "      <td>M</td>\n",
       "      <td>1974</td>\n",
       "      <td>GER</td>\n",
       "      <td>None</td>\n",
       "      <td>None</td>\n",
       "    </tr>\n",
       "    <tr>\n",
       "      <th>255077</th>\n",
       "      <td>Ocampos Mereles, Martin Alfredo</td>\n",
       "      <td>1377</td>\n",
       "      <td>M</td>\n",
       "      <td>1980</td>\n",
       "      <td>PAR</td>\n",
       "      <td>None</td>\n",
       "      <td>None</td>\n",
       "    </tr>\n",
       "    <tr>\n",
       "      <th>356946</th>\n",
       "      <td>Thurillet, Vincent</td>\n",
       "      <td>2133</td>\n",
       "      <td>M</td>\n",
       "      <td>1985</td>\n",
       "      <td>FRA</td>\n",
       "      <td>None</td>\n",
       "      <td>None</td>\n",
       "    </tr>\n",
       "    <tr>\n",
       "      <th>279503</th>\n",
       "      <td>Poranen, Niko</td>\n",
       "      <td>1669</td>\n",
       "      <td>M</td>\n",
       "      <td>1999</td>\n",
       "      <td>FIN</td>\n",
       "      <td>i</td>\n",
       "      <td>None</td>\n",
       "    </tr>\n",
       "    <tr>\n",
       "      <th>362767</th>\n",
       "      <td>Tryjanska, Kornelia</td>\n",
       "      <td>1403</td>\n",
       "      <td>F</td>\n",
       "      <td>2000</td>\n",
       "      <td>POL</td>\n",
       "      <td>w</td>\n",
       "      <td>None</td>\n",
       "    </tr>\n",
       "  </tbody>\n",
       "</table>\n",
       "</div>"
      ],
      "text/plain": [
       "                                   name rating sex birthday country  flag  \\\n",
       "87914                      Doerge, Sven   1943   M     1974     GER  None   \n",
       "255077  Ocampos Mereles, Martin Alfredo   1377   M     1980     PAR  None   \n",
       "356946               Thurillet, Vincent   2133   M     1985     FRA  None   \n",
       "279503                    Poranen, Niko   1669   M     1999     FIN     i   \n",
       "362767              Tryjanska, Kornelia   1403   F     2000     POL     w   \n",
       "\n",
       "       title  \n",
       "87914   None  \n",
       "255077  None  \n",
       "356946  None  \n",
       "279503  None  \n",
       "362767  None  "
      ]
     },
     "execution_count": 8,
     "metadata": {},
     "output_type": "execute_result"
    }
   ],
   "source": [
    "# Vérifiez pour voir un échantillon de 5 joueurs\n",
    "random.seed(0)\n",
    "raw_df.sample(5)"
   ]
  },
  {
   "cell_type": "code",
   "execution_count": 9,
   "id": "ef34ba55-5682-4b27-8c24-f3d04507456c",
   "metadata": {},
   "outputs": [
    {
     "data": {
      "text/plain": [
       "name        object\n",
       "rating      object\n",
       "sex         object\n",
       "birthday    object\n",
       "country     object\n",
       "flag        object\n",
       "title       object\n",
       "dtype: object"
      ]
     },
     "execution_count": 9,
     "metadata": {},
     "output_type": "execute_result"
    }
   ],
   "source": [
    "# Vérifiez pour voir les dtypes du dataframe brut\n",
    "raw_df.dtypes"
   ]
  },
  {
   "cell_type": "code",
   "execution_count": 10,
   "id": "07e1099c-035d-4a50-8964-7779d5b648ec",
   "metadata": {},
   "outputs": [
    {
     "data": {
      "text/plain": [
       "8477"
      ]
     },
     "execution_count": 10,
     "metadata": {},
     "output_type": "execute_result"
    }
   ],
   "source": [
    "# Voir il y a combien de dates de naissance manquantes\n",
    "raw_df.birthday.isnull().sum()"
   ]
  },
  {
   "cell_type": "markdown",
   "id": "61b67982-37d5-4e9c-a2d9-807d31be50ed",
   "metadata": {},
   "source": [
    "### 1.2 Nettoyez les données\n",
    "\n",
    "Nous voulons que les anniversaires (année de naissance) et le score (Elo) soient convertis en nombres entiers afin que nous puissions faire des opérations numériques/logiques avec eux (par exemple, moins que, plus grand que, etc.). Complétez la méthode `clean_data()` dans `chess_rating.py`"
   ]
  },
  {
   "cell_type": "code",
   "execution_count": 12,
   "id": "747820df-2d1f-44b5-92aa-9e952730d361",
   "metadata": {},
   "outputs": [
    {
     "name": "stderr",
     "output_type": "stream",
     "text": [
      "/Users/canelle/Documents/Automne_2023/Science_données/devoir3/chess_rating.py:79: SettingWithCopyWarning: \n",
      "A value is trying to be set on a copy of a slice from a DataFrame.\n",
      "Try using .loc[row_indexer,col_indexer] = value instead\n",
      "\n",
      "See the caveats in the documentation: https://pandas.pydata.org/pandas-docs/stable/user_guide/indexing.html#returning-a-view-versus-a-copy\n",
      "  \"\"\" Renvoie un DataFrame avec les `ratings` regroupés entre les valeurs données dans `bins`, et\n",
      "/Users/canelle/Documents/Automne_2023/Science_données/devoir3/chess_rating.py:80: SettingWithCopyWarning: \n",
      "A value is trying to be set on a copy of a slice from a DataFrame.\n",
      "Try using .loc[row_indexer,col_indexer] = value instead\n",
      "\n",
      "See the caveats in the documentation: https://pandas.pydata.org/pandas-docs/stable/user_guide/indexing.html#returning-a-view-versus-a-copy\n",
      "  avec une étiquette donnée par `bin_centers`. En plus du nombre brut, ajoutez également une colonne normalisée nommée \"count_norm\" obtenu en divisant les comptes par la somme des comptes.\n"
     ]
    }
   ],
   "source": [
    "# TODO: Complétez cette méthode dans chess_ratings.py\n",
    "df = chess_rating.clean_data(raw_df, 2002)"
   ]
  },
  {
   "cell_type": "code",
   "execution_count": 13,
   "id": "3f2fb988-7d1e-4521-a534-83c713c8627f",
   "metadata": {},
   "outputs": [
    {
     "data": {
      "text/html": [
       "<div>\n",
       "<style scoped>\n",
       "    .dataframe tbody tr th:only-of-type {\n",
       "        vertical-align: middle;\n",
       "    }\n",
       "\n",
       "    .dataframe tbody tr th {\n",
       "        vertical-align: top;\n",
       "    }\n",
       "\n",
       "    .dataframe thead th {\n",
       "        text-align: right;\n",
       "    }\n",
       "</style>\n",
       "<table border=\"1\" class=\"dataframe\">\n",
       "  <thead>\n",
       "    <tr style=\"text-align: right;\">\n",
       "      <th></th>\n",
       "      <th>name</th>\n",
       "      <th>rating</th>\n",
       "      <th>sex</th>\n",
       "      <th>birthday</th>\n",
       "      <th>country</th>\n",
       "      <th>flag</th>\n",
       "      <th>title</th>\n",
       "    </tr>\n",
       "  </thead>\n",
       "  <tbody>\n",
       "    <tr>\n",
       "      <th>206801</th>\n",
       "      <td>Lutzen, Mads</td>\n",
       "      <td>1542</td>\n",
       "      <td>M</td>\n",
       "      <td>2000</td>\n",
       "      <td>DEN</td>\n",
       "      <td>i</td>\n",
       "      <td>None</td>\n",
       "    </tr>\n",
       "    <tr>\n",
       "      <th>296314</th>\n",
       "      <td>Rieckers, Dirk</td>\n",
       "      <td>1397</td>\n",
       "      <td>M</td>\n",
       "      <td>1964</td>\n",
       "      <td>GER</td>\n",
       "      <td>i</td>\n",
       "      <td>None</td>\n",
       "    </tr>\n",
       "    <tr>\n",
       "      <th>120235</th>\n",
       "      <td>Gil, Celsio</td>\n",
       "      <td>1752</td>\n",
       "      <td>M</td>\n",
       "      <td>1999</td>\n",
       "      <td>STP</td>\n",
       "      <td>i</td>\n",
       "      <td>None</td>\n",
       "    </tr>\n",
       "    <tr>\n",
       "      <th>147860</th>\n",
       "      <td>Hurwitz, Ed J G</td>\n",
       "      <td>2023</td>\n",
       "      <td>M</td>\n",
       "      <td>1964</td>\n",
       "      <td>ENG</td>\n",
       "      <td>i</td>\n",
       "      <td>None</td>\n",
       "    </tr>\n",
       "    <tr>\n",
       "      <th>124743</th>\n",
       "      <td>Gonzalez Gomez, Pedro Daniel</td>\n",
       "      <td>1539</td>\n",
       "      <td>M</td>\n",
       "      <td>1997</td>\n",
       "      <td>ESP</td>\n",
       "      <td>None</td>\n",
       "      <td>None</td>\n",
       "    </tr>\n",
       "  </tbody>\n",
       "</table>\n",
       "</div>"
      ],
      "text/plain": [
       "                                name  rating sex  birthday country  flag title\n",
       "206801                  Lutzen, Mads    1542   M      2000     DEN     i  None\n",
       "296314                Rieckers, Dirk    1397   M      1964     GER     i  None\n",
       "120235                   Gil, Celsio    1752   M      1999     STP     i  None\n",
       "147860               Hurwitz, Ed J G    2023   M      1964     ENG     i  None\n",
       "124743  Gonzalez Gomez, Pedro Daniel    1539   M      1997     ESP  None  None"
      ]
     },
     "execution_count": 13,
     "metadata": {},
     "output_type": "execute_result"
    }
   ],
   "source": [
    "np.random.seed(0)\n",
    "df.sample(5)"
   ]
  },
  {
   "cell_type": "code",
   "execution_count": 14,
   "id": "6bd27b89-275f-48a4-b10e-20062b7767b9",
   "metadata": {},
   "outputs": [
    {
     "data": {
      "text/plain": [
       "name        object\n",
       "rating       int64\n",
       "sex         object\n",
       "birthday     int64\n",
       "country     object\n",
       "flag        object\n",
       "title       object\n",
       "dtype: object"
      ]
     },
     "execution_count": 14,
     "metadata": {},
     "output_type": "execute_result"
    }
   ],
   "source": [
    "df.dtypes"
   ]
  },
  {
   "cell_type": "code",
   "execution_count": 15,
   "id": "8bd092db-fc9f-45ce-bb63-1c0857c3d9ac",
   "metadata": {},
   "outputs": [
    {
     "data": {
      "text/plain": [
       "0"
      ]
     },
     "execution_count": 15,
     "metadata": {},
     "output_type": "execute_result"
    }
   ],
   "source": [
    "df.birthday.isnull().sum()"
   ]
  },
  {
   "cell_type": "markdown",
   "id": "a4a77bef-61ac-4670-bccf-6f66c40f9333",
   "metadata": {},
   "source": [
    "## 2. Histogrammes des scores Elo\n",
    "\n",
    "Nous voulons d'abord comparer la distribution des scores pour les joueurs masculins et féminins.\n",
    "Étant donné que les données sont assez fines, nous devrons regrouper les notes.\n",
    "Complétez `bin_counts()`, qui devrait gérer le binning pour les données arbitraires et le choix des bacs.\n",
    "En plus de renvoyer les décomptes bruts, renvoyez également les décomptes normalisés dans la trame de données (`\"count_norm\"`)."
   ]
  },
  {
   "cell_type": "markdown",
   "id": "4aaff953-66cd-430b-bd67-a2a50def326d",
   "metadata": {},
   "source": [
    "### 2.1 Binning data\n",
    "\n",
    "Voici quelques entrées de test pour vous aider à valider votre implémentation :"
   ]
  },
  {
   "cell_type": "code",
   "execution_count": 16,
   "id": "926c545c-4123-47b7-9031-f8478d9fcde5",
   "metadata": {},
   "outputs": [],
   "source": [
    "# sample inputs to help test your method\n",
    "x = pd.DataFrame({'rating': [1, 2, 4, 6, 6, 7, 8, 11] })\n",
    "bins = [0, 5, 10, 15]\n",
    "bin_centers = [2.5, 7.5, 12.5]\n",
    "\n",
    "# Output attendu\n",
    "solution = pd.DataFrame({\n",
    "    'rating': {0: 7.5, 1: 2.5, 2: 12.5},\n",
    "     'count': {0: 4, 1: 3, 2: 1},\n",
    "     'count_norm': {0: 0.5, 1: 0.375, 2: 0.125}\n",
    "})"
   ]
  },
  {
   "cell_type": "code",
   "execution_count": 17,
   "id": "d9c34ecb-7a7e-460c-b6fd-0a8d5c8613a7",
   "metadata": {},
   "outputs": [],
   "source": [
    "binned_output = chess_rating.bin_counts(x, bins, bin_centers)\n",
    "binned_output"
   ]
  },
  {
   "cell_type": "code",
   "execution_count": 18,
   "id": "acbd3f20-7dbf-42ca-bdd2-1f687200d49c",
   "metadata": {},
   "outputs": [
    {
     "data": {
      "text/html": [
       "<div>\n",
       "<style scoped>\n",
       "    .dataframe tbody tr th:only-of-type {\n",
       "        vertical-align: middle;\n",
       "    }\n",
       "\n",
       "    .dataframe tbody tr th {\n",
       "        vertical-align: top;\n",
       "    }\n",
       "\n",
       "    .dataframe thead th {\n",
       "        text-align: right;\n",
       "    }\n",
       "</style>\n",
       "<table border=\"1\" class=\"dataframe\">\n",
       "  <thead>\n",
       "    <tr style=\"text-align: right;\">\n",
       "      <th></th>\n",
       "      <th>rating</th>\n",
       "      <th>count</th>\n",
       "      <th>count_norm</th>\n",
       "    </tr>\n",
       "  </thead>\n",
       "  <tbody>\n",
       "    <tr>\n",
       "      <th>0</th>\n",
       "      <td>False</td>\n",
       "      <td>False</td>\n",
       "      <td>False</td>\n",
       "    </tr>\n",
       "    <tr>\n",
       "      <th>1</th>\n",
       "      <td>False</td>\n",
       "      <td>False</td>\n",
       "      <td>False</td>\n",
       "    </tr>\n",
       "    <tr>\n",
       "      <th>2</th>\n",
       "      <td>False</td>\n",
       "      <td>False</td>\n",
       "      <td>False</td>\n",
       "    </tr>\n",
       "  </tbody>\n",
       "</table>\n",
       "</div>"
      ],
      "text/plain": [
       "   rating  count  count_norm\n",
       "0   False  False       False\n",
       "1   False  False       False\n",
       "2   False  False       False"
      ]
     },
     "execution_count": 18,
     "metadata": {},
     "output_type": "execute_result"
    }
   ],
   "source": [
    "solution.eq(binned_output)"
   ]
  },
  {
   "cell_type": "markdown",
   "id": "0111d9b4-f49f-4740-b097-87d8704034b3",
   "metadata": {},
   "source": [
    "Utilisons cette méthode pour bin les scores M/F et les comparer."
   ]
  },
  {
   "cell_type": "code",
   "execution_count": 23,
   "id": "3e6fe70f-6651-4deb-ab6f-73b29d93aa90",
   "metadata": {},
   "outputs": [],
   "source": [
    "# TODO: Spécifiez les bin counts \n",
    "# le min de rating est de 1001\n",
    "# le max de rating est de 2856\n",
    "# je pense que faire des bins de 200 semble correct, ça donne 10 bins\n",
    "bins = [1000, 1200, 1400, 1600, 1800, 2000, 2200, 2400, 2600, 2800]\n",
    "bin_centers = [(bins[i] + bins[i+1])/2 for i in range(len(bins)-1)]"
   ]
  },
  {
   "cell_type": "code",
   "execution_count": 40,
   "id": "be10f2b7-5789-48eb-9706-5313e1b41d86",
   "metadata": {},
   "outputs": [
    {
     "name": "stderr",
     "output_type": "stream",
     "text": [
      "/Users/canelle/Documents/Automne_2023/Science_données/devoir3/chess_rating.py:120: SettingWithCopyWarning: \n",
      "A value is trying to be set on a copy of a slice from a DataFrame.\n",
      "Try using .loc[row_indexer,col_indexer] = value instead\n",
      "\n",
      "See the caveats in the documentation: https://pandas.pydata.org/pandas-docs/stable/user_guide/indexing.html#returning-a-view-versus-a-copy\n",
      "  \n",
      "/Users/canelle/Documents/Automne_2023/Science_données/devoir3/chess_rating.py:120: SettingWithCopyWarning: \n",
      "A value is trying to be set on a copy of a slice from a DataFrame.\n",
      "Try using .loc[row_indexer,col_indexer] = value instead\n",
      "\n",
      "See the caveats in the documentation: https://pandas.pydata.org/pandas-docs/stable/user_guide/indexing.html#returning-a-view-versus-a-copy\n",
      "  \n"
     ]
    }
   ],
   "source": [
    "# Générez les données d'histogramme  \n",
    "# TODO: completez chess_rating.bin_counts()\n",
    "M_hist = chess_rating.bin_counts(df.query(\"sex=='M'\"), bins=bins, bin_centers=bin_centers)\n",
    "F_hist = chess_rating.bin_counts(df.query(\"sex=='F'\"), bins=bins, bin_centers=bin_centers)\n",
    "\n",
    "M_hist['sex'] = 'M'\n",
    "F_hist['sex'] = 'F'\n",
    "\n",
    "hist = pd.concat([M_hist, F_hist])"
   ]
  },
  {
   "cell_type": "markdown",
   "id": "51628add-30b4-4f3d-b18c-5634edc9a5fd",
   "metadata": {},
   "source": [
    "À l'aide des données regroupées, tracez deux graphiques linéaires des données regroupées côte à côte; l'un contenant les décomptes bruts (`\"count\"`), et l'autre contenant les décomptes normalisés (`\"count_norm\"`), et M/F doit être de deux couleurs différentes."
   ]
  },
  {
   "cell_type": "code",
   "execution_count": 49,
   "id": "2600102e",
   "metadata": {},
   "outputs": [
    {
     "data": {
      "text/html": [
       "<div>\n",
       "<style scoped>\n",
       "    .dataframe tbody tr th:only-of-type {\n",
       "        vertical-align: middle;\n",
       "    }\n",
       "\n",
       "    .dataframe tbody tr th {\n",
       "        vertical-align: top;\n",
       "    }\n",
       "\n",
       "    .dataframe thead th {\n",
       "        text-align: right;\n",
       "    }\n",
       "</style>\n",
       "<table border=\"1\" class=\"dataframe\">\n",
       "  <thead>\n",
       "    <tr style=\"text-align: right;\">\n",
       "      <th></th>\n",
       "      <th>rating</th>\n",
       "      <th>count</th>\n",
       "      <th>count_norm</th>\n",
       "      <th>sex</th>\n",
       "    </tr>\n",
       "  </thead>\n",
       "  <tbody>\n",
       "    <tr>\n",
       "      <th>0</th>\n",
       "      <td>1100.0</td>\n",
       "      <td>15412</td>\n",
       "      <td>0.056184</td>\n",
       "      <td>M</td>\n",
       "    </tr>\n",
       "    <tr>\n",
       "      <th>1</th>\n",
       "      <td>1300.0</td>\n",
       "      <td>32841</td>\n",
       "      <td>0.119722</td>\n",
       "      <td>M</td>\n",
       "    </tr>\n",
       "    <tr>\n",
       "      <th>2</th>\n",
       "      <td>1500.0</td>\n",
       "      <td>49364</td>\n",
       "      <td>0.179956</td>\n",
       "      <td>M</td>\n",
       "    </tr>\n",
       "    <tr>\n",
       "      <th>3</th>\n",
       "      <td>1700.0</td>\n",
       "      <td>60369</td>\n",
       "      <td>0.220075</td>\n",
       "      <td>M</td>\n",
       "    </tr>\n",
       "    <tr>\n",
       "      <th>4</th>\n",
       "      <td>1900.0</td>\n",
       "      <td>57344</td>\n",
       "      <td>0.209047</td>\n",
       "      <td>M</td>\n",
       "    </tr>\n",
       "    <tr>\n",
       "      <th>5</th>\n",
       "      <td>2100.0</td>\n",
       "      <td>41072</td>\n",
       "      <td>0.149728</td>\n",
       "      <td>M</td>\n",
       "    </tr>\n",
       "    <tr>\n",
       "      <th>6</th>\n",
       "      <td>2300.0</td>\n",
       "      <td>15123</td>\n",
       "      <td>0.055131</td>\n",
       "      <td>M</td>\n",
       "    </tr>\n",
       "    <tr>\n",
       "      <th>7</th>\n",
       "      <td>2500.0</td>\n",
       "      <td>2551</td>\n",
       "      <td>0.009300</td>\n",
       "      <td>M</td>\n",
       "    </tr>\n",
       "    <tr>\n",
       "      <th>8</th>\n",
       "      <td>2700.0</td>\n",
       "      <td>235</td>\n",
       "      <td>0.000857</td>\n",
       "      <td>M</td>\n",
       "    </tr>\n",
       "    <tr>\n",
       "      <th>0</th>\n",
       "      <td>1100.0</td>\n",
       "      <td>2755</td>\n",
       "      <td>0.112919</td>\n",
       "      <td>F</td>\n",
       "    </tr>\n",
       "    <tr>\n",
       "      <th>1</th>\n",
       "      <td>1300.0</td>\n",
       "      <td>4108</td>\n",
       "      <td>0.168374</td>\n",
       "      <td>F</td>\n",
       "    </tr>\n",
       "    <tr>\n",
       "      <th>2</th>\n",
       "      <td>1500.0</td>\n",
       "      <td>4940</td>\n",
       "      <td>0.202476</td>\n",
       "      <td>F</td>\n",
       "    </tr>\n",
       "    <tr>\n",
       "      <th>3</th>\n",
       "      <td>1700.0</td>\n",
       "      <td>4941</td>\n",
       "      <td>0.202517</td>\n",
       "      <td>F</td>\n",
       "    </tr>\n",
       "    <tr>\n",
       "      <th>4</th>\n",
       "      <td>1900.0</td>\n",
       "      <td>3895</td>\n",
       "      <td>0.159644</td>\n",
       "      <td>F</td>\n",
       "    </tr>\n",
       "    <tr>\n",
       "      <th>5</th>\n",
       "      <td>2100.0</td>\n",
       "      <td>3091</td>\n",
       "      <td>0.126691</td>\n",
       "      <td>F</td>\n",
       "    </tr>\n",
       "    <tr>\n",
       "      <th>6</th>\n",
       "      <td>2300.0</td>\n",
       "      <td>598</td>\n",
       "      <td>0.024510</td>\n",
       "      <td>F</td>\n",
       "    </tr>\n",
       "    <tr>\n",
       "      <th>7</th>\n",
       "      <td>2500.0</td>\n",
       "      <td>68</td>\n",
       "      <td>0.002787</td>\n",
       "      <td>F</td>\n",
       "    </tr>\n",
       "    <tr>\n",
       "      <th>8</th>\n",
       "      <td>2700.0</td>\n",
       "      <td>2</td>\n",
       "      <td>0.000082</td>\n",
       "      <td>F</td>\n",
       "    </tr>\n",
       "  </tbody>\n",
       "</table>\n",
       "</div>"
      ],
      "text/plain": [
       "   rating  count  count_norm sex\n",
       "0  1100.0  15412    0.056184   M\n",
       "1  1300.0  32841    0.119722   M\n",
       "2  1500.0  49364    0.179956   M\n",
       "3  1700.0  60369    0.220075   M\n",
       "4  1900.0  57344    0.209047   M\n",
       "5  2100.0  41072    0.149728   M\n",
       "6  2300.0  15123    0.055131   M\n",
       "7  2500.0   2551    0.009300   M\n",
       "8  2700.0    235    0.000857   M\n",
       "0  1100.0   2755    0.112919   F\n",
       "1  1300.0   4108    0.168374   F\n",
       "2  1500.0   4940    0.202476   F\n",
       "3  1700.0   4941    0.202517   F\n",
       "4  1900.0   3895    0.159644   F\n",
       "5  2100.0   3091    0.126691   F\n",
       "6  2300.0    598    0.024510   F\n",
       "7  2500.0     68    0.002787   F\n",
       "8  2700.0      2    0.000082   F"
      ]
     },
     "execution_count": 49,
     "metadata": {},
     "output_type": "execute_result"
    }
   ],
   "source": [
    "hist"
   ]
  },
  {
   "cell_type": "code",
   "execution_count": 41,
   "id": "c16c6fc6-8642-4fb2-8808-4d32ce41180c",
   "metadata": {},
   "outputs": [
    {
     "data": {
      "text/plain": [
       "<Axes: xlabel='rating', ylabel='count_norm'>"
      ]
     },
     "execution_count": 41,
     "metadata": {},
     "output_type": "execute_result"
    },
    {
     "data": {
      "image/png": "[encoded data removed]",
      "text/plain": [
       "<Figure size 1440x480 with 2 Axes>"
      ]
     },
     "metadata": {},
     "output_type": "display_data"
    }
   ],
   "source": [
    "# Now draw the two histograms side-by-side. \n",
    "fig, ax = plt.subplots(1,2, figsize=(12, 4), dpi=120)\n",
    "sns.lineplot(data=hist, x=\"rating\", y=\"count\", hue='sex', ax=ax[0])\n",
    "sns.lineplot(data=hist, x=\"rating\", y=\"count_norm\", hue='sex', ax=ax[1])"
   ]
  },
  {
   "cell_type": "markdown",
   "id": "c80ca2ec-6fbd-4974-b600-77ee90782a54",
   "metadata": {},
   "source": [
    "## 3. Tests de Permutation\n",
    "\n",
    "Nous allons maintenant effectuer les tests de permutation comme indiqué dans l'expérience de pensée de l'introduction.\n",
    "Prenez l'ensemble de données nettoyé complet (hommes et femmes) et échantillonnez au hasard deux groupes sans remplacement (c'est-à-dire mélangez les joueurs).\n",
    "La taille des groupes doit refléter la différence du monde réel que nous souhaitons étudier, c'est-à-dire la taille du groupe masculin et féminin.\n",
    "Terminez `chess_rating.PermutationTests.job()`, qui implémente la partie échantillonnage de cette expérience, et renvoie la valeur maximale des groupes surreprésentés et sous-représentés respectivement.\n",
    "\n",
    "Ensuite, complétez la méthode `chess_rating.sample_two_groups()`, qui exécute cette expérience `n_iter` fois.\n",
    "Une fois terminé, exécutez cette expérience dans le bloc-notes avec au moins `n_iter=1000`.\n",
    "Exécutez la cellule qui imprime la différence moyenne obtenue à partir des tests de permutation, ainsi que les différences réelles."
   ]
  },
  {
   "cell_type": "code",
   "execution_count": 45,
   "id": "a32b42c8-5773-4da4-8cae-74eb9c02ffba",
   "metadata": {},
   "outputs": [
    {
     "data": {
      "application/vnd.jupyter.widget-view+json": {
       "model_id": "11c0c5ef589a45b392713bdac8e5659c",
       "version_major": 2,
       "version_minor": 0
      },
      "text/plain": [
       "  0%|          | 0/1000 [00:00<?, ?it/s]"
      ]
     },
     "metadata": {},
     "output_type": "display_data"
    }
   ],
   "source": [
    "nb_M = df[df['sex'] == 'M']['sex'].count() \n",
    "nb_F = df[df['sex'] == 'F']['sex'].count()\n",
    "\n",
    "proportion = 0.1 # C'est arbitraire mais je vais prendre 10% du df initial\n",
    "\n",
    "n_overrep = int(max(nb_M*proportion, nb_F*proportion)) # TODO\n",
    "n_underrep =  int(min(nb_M*proportion, nb_F*proportion)) # TODO\n",
    "\n",
    "#n_overrep = max(nb_M, nb_F) # TODO\n",
    "#n_underrep =  min(nb_M, nb_F) # TODO\n",
    "\n",
    "\n",
    "over, under = chess_rating.sample_two_groups(df, n_overrep, n_underrep, n_iter=1000)"
   ]
  },
  {
   "cell_type": "code",
   "execution_count": 46,
   "id": "75acbc10-cc05-462c-b014-80218c6d114f",
   "metadata": {},
   "outputs": [],
   "source": [
    "diffs = over - under\n",
    "max_M, max_F = df.query(\"sex=='M'\").rating.max(), df.query(\"sex=='F'\").rating.max()"
   ]
  },
  {
   "cell_type": "code",
   "execution_count": 47,
   "id": "6d4c8dfd-7a53-4d37-877c-4eaa5539d40d",
   "metadata": {},
   "outputs": [
    {
     "name": "stdout",
     "output_type": "stream",
     "text": [
      "Mean difference between top individuals in the over/under represented groups taken from the permutation experiments:\n",
      "\n",
      "\t108.955 (std=76.52)\n",
      "\n",
      "Real values:\n",
      "\n",
      "\tMax M:\t\t2856\n",
      "\tMax F:\t\t2675\n",
      "\tReal difference: 181\n"
     ]
    }
   ],
   "source": [
    "print(f\"Mean difference between top individuals in the over/under represented groups taken from the permutation experiments:\")\n",
    "print(f\"\\n\\t{diffs.mean()} (std={diffs.std().round(2)})\")\n",
    "print()\n",
    "print(\"Real values:\\n\")\n",
    "print(f\"\\tMax M:\\t\\t{max_M}\")\n",
    "print(f\"\\tMax F:\\t\\t{max_F}\")\n",
    "print(f\"\\tReal difference: {max_M - max_F}\")"
   ]
  },
  {
   "cell_type": "code",
   "execution_count": 48,
   "id": "9c6c4525-b312-4674-901d-ae6f2a17a10e",
   "metadata": {
    "scrolled": true
   },
   "outputs": [
    {
     "data": {
      "image/png": "[encoded data removed]",
      "text/plain": [
       "<Figure size 640x480 with 1 Axes>"
      ]
     },
     "metadata": {},
     "output_type": "display_data"
    }
   ],
   "source": [
    "fig, ax = plt.subplots(1, 1, dpi=100)\n",
    "sns.histplot(diffs, ax=ax).set(title=\"Histogram of differences\", xlabel=\"max(overrep) - max(underrep)\");"
   ]
  },
  {
   "cell_type": "markdown",
   "id": "a901194d-3d33-4a97-af01-b2327c7f310f",
   "metadata": {},
   "source": [
    "# Questions \n",
    "\n",
    "Donnez des réponses courtes aux questions suivantes (1-3 lignes chaques)."
   ]
  },
  {
   "cell_type": "markdown",
   "id": "b431f598-19f1-4955-82f8-331397fdfbd8",
   "metadata": {},
   "source": [
    "1. Interprétez les résultats - pouvez-vous tirer une conclusion ? Rappelez-vous que l'affirmation discutée dans l'introduction de cette question était \"les hommes sont meilleurs que les femmes aux échecs parce que la plupart des meilleurs joueurs sont des hommes\". (Remarque : probablement une partie de votre réponse ici sera liée à votre réponse à la question suivante.)\n",
    "\n",
    "*Le centre de l'histogramme ne se trouve pas proche de zéro, donc il semble y avoir une différence significative entre les scores Elo des hommes et des femmes lorsque le biais de la taille de l'échantillon est contrôlé. Mais on ne peut toujours pas conclure, il y a d'autres biais qui peuvent rentrer en jeu.*\n",
    " \n",
    "\n",
    "2. Pensez-vous que les chiffres obtenus ici racontent toute l'histoire ? Quels pourraient être les problèmes avec l'analyse menée ici ? Les données avec lesquelles nous travaillons sont-elles biaisées d'une quelconque manière (autre qu'un biais de surreprésentation) ? L'ELO est-il une bonne mesure et peut-il être utilisé pour répondre à la question initiale ? Existe-t-il des différences dans le traitement social, culturel et systémique des hommes et des femmes qui peuvent empêcher le groupe sous-représenté d'obtenir des résultats similaires ? Rien d'autre?\n",
    "\n",
    "*Les chiffres obtenus ne racontent pas toute l'histoire. L'analyse pourrait être limitée par le biais inhérent aux données et la capacité du système de notation Elo à refléter avec précision les compétences des joueurs. Des facteurs externes, tels que les différences dans les opportunités et le traitement des joueurs basés sur le genre, peuvent également influencer les résultats et doivent être pris en compte pour une compréhension complète. J'imagine que les femmes peuvent faire face à des stéréotypes de genre qui mettent en doute leurs compétences en échecs, une représentation moindre dans les médias et les publicités, et un accès limité à des opportunités de formation et de compétition de haut niveau.*\n",
    "\n"
   ]
  },
  {
   "cell_type": "markdown",
   "id": "b186e008",
   "metadata": {},
   "source": [
    "Le but de ces questions est de souligner que les données sont une représentation limitée du monde réel. Il est essentiel pour nous, en tant que scientifiques des données, de prendre du recul lorsque nous examinons un résultat et de réfléchir à la façon dont il est lié au monde réel, plutôt que de simplement supposer naïvement que les données et la configuration expérimentale sont bonnes, ce qui entraîne souvent des conclusions erronées/incorrectes. Il pourrait y avoir plusieurs facteurs de causalité qui expliquent une relation qui sont indépendants de l'hypothèse d'origine: utilisation de données qui ne reflètent pas vraiment l'hypothèse que vous souhaitez tester, données biaisées (y compris les groupes surreprésentés), différences systémiques réelles entre les groupes, etc."
   ]
  },
  {
   "cell_type": "markdown",
   "id": "daa7ca34",
   "metadata": {},
   "source": []
  }
 ],
 "metadata": {
  "kernelspec": {
   "display_name": "Python 3 (ipykernel)",
   "language": "python",
   "name": "python3"
  },
  "language_info": {
   "codemirror_mode": {
    "name": "ipython",
    "version": 3
   },
   "file_extension": ".py",
   "mimetype": "text/x-python",
   "name": "python",
   "nbconvert_exporter": "python",
   "pygments_lexer": "ipython3",
   "version": "3.11.4"
  }
 },
 "nbformat": 4,
 "nbformat_minor": 5
}
